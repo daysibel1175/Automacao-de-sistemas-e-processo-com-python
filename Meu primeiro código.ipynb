{
 "cells": [
  {
   "cell_type": "markdown",
   "id": "48456b5e",
   "metadata": {},
   "source": [
    "Texto explicativo do que eu vou fazer com meu codigo"
   ]
  },
  {
   "cell_type": "code",
   "execution_count": 9,
   "id": "d942bdf9",
   "metadata": {},
   "outputs": [
    {
     "name": "stdout",
     "output_type": "stream",
     "text": [
      "óla mundo\n"
     ]
    }
   ],
   "source": [
    "print('óla mundo')"
   ]
  },
  {
   "cell_type": "code",
   "execution_count": 10,
   "id": "4e40878a",
   "metadata": {},
   "outputs": [],
   "source": [
    "#pyautogui é uma biblioteca de automatizaçao de comandos do mouse e do teclado\n",
    "\n",
    "#pyautogui quando ele vai escrever textos ele tem alguma restriçoes, com caracteres especiales por exemplos, ~? ele não tem a capacidade por ser criado em ingles\n",
    "#pandas é uma biblioteca para trabajar com bases de dados eficientes"
   ]
  },
  {
   "cell_type": "code",
   "execution_count": 11,
   "id": "922c96fc",
   "metadata": {},
   "outputs": [
    {
     "name": "stdout",
     "output_type": "stream",
     "text": [
      "Requirement already satisfied: pyautogui in c:\\users\\daysi\\anaconda3\\lib\\site-packages (0.9.53)\n",
      "Requirement already satisfied: pymsgbox in c:\\users\\daysi\\anaconda3\\lib\\site-packages (from pyautogui) (1.0.9)\n",
      "Requirement already satisfied: pyscreeze>=0.1.21 in c:\\users\\daysi\\anaconda3\\lib\\site-packages (from pyautogui) (0.1.28)\n",
      "Requirement already satisfied: mouseinfo in c:\\users\\daysi\\anaconda3\\lib\\site-packages (from pyautogui) (0.1.3)\n",
      "Requirement already satisfied: PyTweening>=1.0.1 in c:\\users\\daysi\\anaconda3\\lib\\site-packages (from pyautogui) (1.0.4)\n",
      "Requirement already satisfied: pygetwindow>=0.0.5 in c:\\users\\daysi\\anaconda3\\lib\\site-packages (from pyautogui) (0.0.9)\n",
      "Requirement already satisfied: pyrect in c:\\users\\daysi\\anaconda3\\lib\\site-packages (from pygetwindow>=0.0.5->pyautogui) (0.2.0)\n",
      "Requirement already satisfied: pyperclip in c:\\users\\daysi\\anaconda3\\lib\\site-packages (from mouseinfo->pyautogui) (1.8.2)\n"
     ]
    }
   ],
   "source": [
    "!pip install pyautogui"
   ]
  },
  {
   "cell_type": "code",
   "execution_count": 12,
   "id": "1eb22fe3",
   "metadata": {},
   "outputs": [
    {
     "name": "stdout",
     "output_type": "stream",
     "text": [
      "Requirement already satisfied: opencv-python in c:\\users\\daysi\\anaconda3\\lib\\site-packages (4.6.0.66)\n",
      "Requirement already satisfied: numpy>=1.14.5 in c:\\users\\daysi\\anaconda3\\lib\\site-packages (from opencv-python) (1.21.5)\n"
     ]
    }
   ],
   "source": [
    "!pip install opencv-python"
   ]
  },
  {
   "cell_type": "code",
   "execution_count": 13,
   "id": "258d187d",
   "metadata": {},
   "outputs": [],
   "source": [
    "import pyautogui #importando pyautogui para usar no codigo siguiente\n",
    "import pyperclip #recurso para resolver ese problema de write\n",
    "import time\n",
    "# el comando a seguir pausa um segunda a cada comando de pyautogui\n",
    "pyautogui.PAUSE = 1\n",
    "#pyautogui.click  para python fazer um click\n",
    "#pyautogui.press  para python pressionar uma tecla\n",
    "#pyautogui.hotkey para python usar um atalho exemplo: ctrl+z\n",
    "#pyautogui.write para python escrever um texto\n",
    "#passos para pythonn abrir google chrome\n",
    "#pyautogui.press(\"win\") para pressionar la tecla de windows\n",
    "#pyautogui.write(\"chrome\") programa que quer abrir\n",
    "#pyautogui.press(\"enter\") \n",
    "\n",
    "# passo 1: Entra no sistema da empresa(no nosso caso é o link do drive)\n",
    "pyautogui.hotkey(\"ctrl\", \"t\")\n",
    "pyperclip.copy(\"https://drive.google.com/drive/folders/149xknr9JvrlEnhNWO49zPcw0PW5icxga\")\n",
    "pyautogui.hotkey(\"ctrl\", \"v\")\n",
    "pyautogui.press(\"enter\")\n",
    "#comando a seguir pausa tanto tiempo solamente ahi donde lo escribas time.sleep(nro para esperar)\n",
    "#tambien podemos capturar un pedazo de la tela y decir que hasta que eso se cargue puede continuar con el codigo, es necesario guardar la imagen solo en png y colocar ese confidence 0.9 osea 90% para que no busque la imagen exacta sino la mas semejante\n",
    "#while quiere decir enquanto não encontar essa imagem espera 1segundo, e roda de novo, ainda não acho, espera mais um segundo, é um loop que podemos crear para repetir algo ate que já não é mais necessario\n",
    "\n",
    "#while not pyautogui.locateOnScreen(\"drive.png\", confidence=0.9):\n",
    "#time.sleep(1)\n",
    "\n",
    "time.sleep(5)\n",
    "\n",
    "# passo 2: navegar no sistema e encontrar a base de vendas (entrar na pasta exportar)\n",
    "pyautogui.click(x=348, y=274, clicks=2) #clicar no botão exportar\n",
    "time.sleep(3)\n",
    "\n",
    "# passo 3: fazer o download da base de vendas \n",
    "pyautogui.click(x=348, y=274) #clicar no arquivo\n",
    "pyautogui.click(x=1167, y=172) #clicar nos 3pontos\n",
    "pyautogui.click(x=1004, y=589)  #clicar no fazer dowmload\n",
    "time.sleep(5) #para esperar o dowmload acabar"
   ]
  },
  {
   "cell_type": "code",
   "execution_count": 14,
   "id": "4769fe47",
   "metadata": {},
   "outputs": [
    {
     "data": {
      "text/html": [
       "<div>\n",
       "<style scoped>\n",
       "    .dataframe tbody tr th:only-of-type {\n",
       "        vertical-align: middle;\n",
       "    }\n",
       "\n",
       "    .dataframe tbody tr th {\n",
       "        vertical-align: top;\n",
       "    }\n",
       "\n",
       "    .dataframe thead th {\n",
       "        text-align: right;\n",
       "    }\n",
       "</style>\n",
       "<table border=\"1\" class=\"dataframe\">\n",
       "  <thead>\n",
       "    <tr style=\"text-align: right;\">\n",
       "      <th></th>\n",
       "      <th>Código Venda</th>\n",
       "      <th>Data</th>\n",
       "      <th>ID Loja</th>\n",
       "      <th>Produto</th>\n",
       "      <th>Quantidade</th>\n",
       "      <th>Valor Unitário</th>\n",
       "      <th>Valor Final</th>\n",
       "    </tr>\n",
       "  </thead>\n",
       "  <tbody>\n",
       "    <tr>\n",
       "      <th>0</th>\n",
       "      <td>65014</td>\n",
       "      <td>2019-12-01</td>\n",
       "      <td>Shopping Morumbi</td>\n",
       "      <td>Sunga Listrado</td>\n",
       "      <td>5</td>\n",
       "      <td>114</td>\n",
       "      <td>570</td>\n",
       "    </tr>\n",
       "    <tr>\n",
       "      <th>1</th>\n",
       "      <td>65014</td>\n",
       "      <td>2019-12-01</td>\n",
       "      <td>Shopping Morumbi</td>\n",
       "      <td>Casaco Listrado</td>\n",
       "      <td>1</td>\n",
       "      <td>269</td>\n",
       "      <td>269</td>\n",
       "    </tr>\n",
       "    <tr>\n",
       "      <th>2</th>\n",
       "      <td>65016</td>\n",
       "      <td>2019-12-01</td>\n",
       "      <td>Iguatemi Campinas</td>\n",
       "      <td>Sapato Listrado</td>\n",
       "      <td>2</td>\n",
       "      <td>363</td>\n",
       "      <td>726</td>\n",
       "    </tr>\n",
       "    <tr>\n",
       "      <th>3</th>\n",
       "      <td>65016</td>\n",
       "      <td>2019-12-01</td>\n",
       "      <td>Iguatemi Campinas</td>\n",
       "      <td>Casaco</td>\n",
       "      <td>1</td>\n",
       "      <td>250</td>\n",
       "      <td>250</td>\n",
       "    </tr>\n",
       "    <tr>\n",
       "      <th>4</th>\n",
       "      <td>65017</td>\n",
       "      <td>2019-12-01</td>\n",
       "      <td>Shopping SP Market</td>\n",
       "      <td>Gorro Liso</td>\n",
       "      <td>3</td>\n",
       "      <td>92</td>\n",
       "      <td>276</td>\n",
       "    </tr>\n",
       "    <tr>\n",
       "      <th>...</th>\n",
       "      <td>...</td>\n",
       "      <td>...</td>\n",
       "      <td>...</td>\n",
       "      <td>...</td>\n",
       "      <td>...</td>\n",
       "      <td>...</td>\n",
       "      <td>...</td>\n",
       "    </tr>\n",
       "    <tr>\n",
       "      <th>7084</th>\n",
       "      <td>69996</td>\n",
       "      <td>2019-12-26</td>\n",
       "      <td>Center Shopping Uberlândia</td>\n",
       "      <td>Short Listrado</td>\n",
       "      <td>2</td>\n",
       "      <td>102</td>\n",
       "      <td>204</td>\n",
       "    </tr>\n",
       "    <tr>\n",
       "      <th>7085</th>\n",
       "      <td>69996</td>\n",
       "      <td>2019-12-26</td>\n",
       "      <td>Center Shopping Uberlândia</td>\n",
       "      <td>Mochila</td>\n",
       "      <td>4</td>\n",
       "      <td>270</td>\n",
       "      <td>1080</td>\n",
       "    </tr>\n",
       "    <tr>\n",
       "      <th>7086</th>\n",
       "      <td>69996</td>\n",
       "      <td>2019-12-26</td>\n",
       "      <td>Center Shopping Uberlândia</td>\n",
       "      <td>Pulseira Estampa</td>\n",
       "      <td>1</td>\n",
       "      <td>87</td>\n",
       "      <td>87</td>\n",
       "    </tr>\n",
       "    <tr>\n",
       "      <th>7087</th>\n",
       "      <td>69997</td>\n",
       "      <td>2019-12-26</td>\n",
       "      <td>Ribeirão Shopping</td>\n",
       "      <td>Camisa Listrado</td>\n",
       "      <td>1</td>\n",
       "      <td>108</td>\n",
       "      <td>108</td>\n",
       "    </tr>\n",
       "    <tr>\n",
       "      <th>7088</th>\n",
       "      <td>69997</td>\n",
       "      <td>2019-12-26</td>\n",
       "      <td>Ribeirão Shopping</td>\n",
       "      <td>Short Linho</td>\n",
       "      <td>2</td>\n",
       "      <td>133</td>\n",
       "      <td>266</td>\n",
       "    </tr>\n",
       "  </tbody>\n",
       "</table>\n",
       "<p>7089 rows × 7 columns</p>\n",
       "</div>"
      ],
      "text/plain": [
       "      Código Venda       Data                     ID Loja           Produto  \\\n",
       "0            65014 2019-12-01            Shopping Morumbi    Sunga Listrado   \n",
       "1            65014 2019-12-01            Shopping Morumbi   Casaco Listrado   \n",
       "2            65016 2019-12-01           Iguatemi Campinas   Sapato Listrado   \n",
       "3            65016 2019-12-01           Iguatemi Campinas            Casaco   \n",
       "4            65017 2019-12-01          Shopping SP Market        Gorro Liso   \n",
       "...            ...        ...                         ...               ...   \n",
       "7084         69996 2019-12-26  Center Shopping Uberlândia    Short Listrado   \n",
       "7085         69996 2019-12-26  Center Shopping Uberlândia           Mochila   \n",
       "7086         69996 2019-12-26  Center Shopping Uberlândia  Pulseira Estampa   \n",
       "7087         69997 2019-12-26           Ribeirão Shopping   Camisa Listrado   \n",
       "7088         69997 2019-12-26           Ribeirão Shopping       Short Linho   \n",
       "\n",
       "      Quantidade  Valor Unitário  Valor Final  \n",
       "0              5             114          570  \n",
       "1              1             269          269  \n",
       "2              2             363          726  \n",
       "3              1             250          250  \n",
       "4              3              92          276  \n",
       "...          ...             ...          ...  \n",
       "7084           2             102          204  \n",
       "7085           4             270         1080  \n",
       "7086           1              87           87  \n",
       "7087           1             108          108  \n",
       "7088           2             133          266  \n",
       "\n",
       "[7089 rows x 7 columns]"
      ]
     },
     "metadata": {},
     "output_type": "display_data"
    }
   ],
   "source": [
    "# passo 4: importar a base de vendas pro Python\n",
    "import pandas\n",
    "#import pandas as pd para  dar um apelido a qualquer biblioteca, pode ser pyautogui as py,etc\n",
    "#sempre que precisar almacenar dados no python devo criar uma variavel\n",
    "#pandas.read_excel, pandas.read_html, pandas.read_sql\n",
    "#sempre antes de colocar un camino local tipo o seguinte com \\ contra barra, colocar r porque python entende \\t,\\a,\\n e outro como caracteres especiais por exemplo \\t como tab a letra r faz que python leia tudo como vc escreveu \n",
    "#para visualizar as informaçoes das tabelas podemos usar print(tabela) para ver os dados, ou display(tabela) para ver os dados mais organizados\n",
    "tabela = pandas.read_excel(r\"C:\\Users\\daysi\\Downloads\\Vendas - Dez.xlsx\")\n",
    "display(tabela)"
   ]
  },
  {
   "cell_type": "code",
   "execution_count": 15,
   "id": "1563a463",
   "metadata": {},
   "outputs": [
    {
     "name": "stdout",
     "output_type": "stream",
     "text": [
      "2917311\n",
      "15227\n"
     ]
    }
   ],
   "source": [
    "# passo 5: calcular os indicadores da empresa(faturamento y quantidade)\n",
    "#.sum() es para sumar,.count() es para contar,.mean() es para calcular la media de la columna\n",
    "#o nome da tabela deve ser igual al que vc colocar aqui \n",
    "# se o arquivo tiver duas tabelas com o mesmo nome ou nao tiver um nome o pandas vai dar um nome para esa outra tabela\n",
    "#se o arquivo do excel tiver duas abas pasar o nome mais ,sheet_name=\"nome da aba especifica\"\n",
    "faturamento = tabela[\"Valor Final\"].sum()\n",
    "print(faturamento)\n",
    "quantidade = tabela[\"Quantidade\"].sum()\n",
    "print(quantidade)\n",
    "\n"
   ]
  },
  {
   "cell_type": "code",
   "execution_count": 16,
   "id": "11f75f4a",
   "metadata": {},
   "outputs": [],
   "source": [
    "# passo 6: enviar um e-mail para a direitora com os indicadores de vendas\n",
    "\n",
    "# abrir aba\n",
    "pyautogui.hotkey(\"ctrl\",\"t\")\n",
    "time.sleep(3)\n",
    "#clicar em email\n",
    "pyautogui.click(x=1148, y=130)\n",
    "time.sleep(5)\n",
    "#clicar en redactar\n",
    "pyautogui.click(x=81, y=169)\n",
    "#escrever email a donde vamos a enviar as info, escreve e aperta tab para selecionar, varios email, seria email, tab, email, tab\n",
    "time.sleep(3)\n",
    "pyautogui.write(\"daysicotiz2@gmail.com\")\n",
    "pyautogui.press(\"tab\") #para selecionar email\n",
    "#preencher as info\n",
    "pyautogui.press(\"tab\") #para pasar al siguiente campo que seria asunto\n",
    "pyperclip.copy(\"Relatório de vendas\")\n",
    "pyautogui.hotkey(\"ctrl\", \"v\")\n",
    "pyautogui.press(\"tab\") #para pasar al campo siguiente\n",
    "#con tres aspas python permite escribir textos de varias lineas, y texto es una constante para no escribir todo eso en el comando write\n",
    "#antes do texo si queremos usar variables colocamos f de formatar y eso permite colocar variables pero siempre entre {} \n",
    "#formatar nros osea que sean decimales o com \",\" los mil, se coloca despues de la variable \":\" e ou  \",\" e ou \".\" \"2\" e ou \"f\" la coma para decir que tiene un mil, punto para decir que tiene casa decima, el numero para decir cuantos decimales son, osea cuantos numeros despues del coma y f de float que significa numero decimal o flutuante\n",
    "texto = f\"\"\" \n",
    "Prezados,\n",
    "\n",
    "Segue Relatório de Vendas\n",
    "faturamento: R${faturamento:,.2f}\n",
    "quantidade de produtos vendidos: {quantidade:,}\n",
    "\n",
    "Qualquer dúvida estou á disposição.\n",
    "Att.,\n",
    "Daysibel Cotiz\n",
    "\"\"\"\n",
    "pyperclip.copy(texto) #texto que es la variable que hicimos arriba\n",
    "pyautogui.hotkey(\"ctrl\", \"v\")\n",
    "\n",
    "#anexar um arquivo\n",
    "arquivo = r\"C:\\Users\\daysi\\Downloads\\Vendas - Dez.xlsx\"\n",
    "pyautogui.click(x=961, y=631)\n",
    "pyperclip.copy(arquivo)\n",
    "pyautogui.hotkey(\"ctrl\", \"v\")\n",
    "pyautogui.press(\"enter\")\n",
    "#enviar email\n",
    "pyautogui.hotkey(\"ctrl\", \"enter\")\n"
   ]
  },
  {
   "cell_type": "code",
   "execution_count": 17,
   "id": "518c5ed2",
   "metadata": {},
   "outputs": [
    {
     "data": {
      "text/plain": [
       "Point(x=961, y=631)"
      ]
     },
     "execution_count": 17,
     "metadata": {},
     "output_type": "execute_result"
    }
   ],
   "source": [
    "## codigo para saber la posicion del mouse \n",
    "time.sleep(5)\n",
    "pyautogui.position()"
   ]
  },
  {
   "cell_type": "markdown",
   "id": "5760f73a",
   "metadata": {},
   "source": []
  },
  {
   "cell_type": "markdown",
   "id": "b5c39a54",
   "metadata": {},
   "source": []
  },
  {
   "cell_type": "markdown",
   "id": "84979249",
   "metadata": {},
   "source": [
    "## "
   ]
  }
 ],
 "metadata": {
  "kernelspec": {
   "display_name": "Python 3 (ipykernel)",
   "language": "python",
   "name": "python3"
  },
  "language_info": {
   "codemirror_mode": {
    "name": "ipython",
    "version": 3
   },
   "file_extension": ".py",
   "mimetype": "text/x-python",
   "name": "python",
   "nbconvert_exporter": "python",
   "pygments_lexer": "ipython3",
   "version": "3.9.12"
  }
 },
 "nbformat": 4,
 "nbformat_minor": 5
}
